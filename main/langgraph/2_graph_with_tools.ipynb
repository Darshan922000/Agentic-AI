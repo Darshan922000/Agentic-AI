{
 "cells": [
  {
   "cell_type": "markdown",
   "metadata": {},
   "source": [
    "Day - 7"
   ]
  },
  {
   "cell_type": "code",
   "execution_count": null,
   "metadata": {},
   "outputs": [
    {
     "name": "stdout",
     "output_type": "stream",
     "text": [
      "==================================\u001b[1m Ai Message \u001b[0m==================================\n",
      "Name: Model\n",
      "\n",
      "So you said you were researching ocean mammals?\n",
      "================================\u001b[1m Human Message \u001b[0m=================================\n",
      "Name: Lance\n",
      "\n",
      "Yes, that's right.\n",
      "==================================\u001b[1m Ai Message \u001b[0m==================================\n",
      "Name: Model\n",
      "\n",
      "Great, what would you like to learn about.\n",
      "================================\u001b[1m Human Message \u001b[0m=================================\n",
      "Name: Lance\n",
      "\n",
      "I want to learn about the best place to see Orcas in the US.\n"
     ]
    }
   ],
   "source": [
    "from pprint import pprint\n",
    "from langchain_core.messages import AIMessage, HumanMessage\n",
    "\n",
    "messages = [AIMessage(content=f\"So you said you were researching ocean mammals?\", name=\"Model\")]\n",
    "messages.append(HumanMessage(content=f\"Yes, that's right.\",name=\"Lance\"))\n",
    "messages.append(AIMessage(content=f\"Great, what would you like to learn about.\", name=\"Model\"))\n",
    "messages.append(HumanMessage(content=f\"I want to learn about the best place to see Orcas in the US.\", name=\"Lance\"))\n",
    "\n",
    "for m in messages:\n",
    "    m.pretty_print()"
   ]
  },
  {
   "cell_type": "code",
   "execution_count": 47,
   "metadata": {},
   "outputs": [
    {
     "data": {
      "text/plain": [
       "AIMessage(content=\"To see orcas (also known as killer whales) in the United States, the Pacific Northwest is particularly renowned for its high chance of encountering these magnificent creatures. Here are a few spots known for orca sightings:\\n\\n1. **San Juan Islands, Washington**: This area is home to the Southern Resident killer whale population, which consists of three pods (J, K, and L pods). Whale watching tours are very popular here, especially during the summer months when salmon, the orcas' primary food source, are abundant.\\n\\n2. **Seattle, Washington**: From Seattle, you can take boat tours to the San Juan Islands or to the nearby waters of Puget Sound, where orcas can sometimes be seen.\\n\\n3. **Olympic Coast National Marine Sanctuary, Washington**: This sanctuary is another prime location to spot orcas, as well as other marine life. However, the sightings here can be less predictable compared to the San Juan Islands.\\n\\n4. **Seward, Alaska**: Although it's not in the contiguous United States, Seward is a popular spot for orca watching during the summer months, with tours that often combine orca sightings with views of glaciers and other wildlife.\\n\\n5. **Baja California, Mexico (though not in the US, it's close to California and is a migration path)**: Orcas can sometimes be seen in the waters off Baja California, especially during winter and spring migrations.\\n\\nThe best times for orca sightings along the U.S. west coast are generally from May through September, coinciding with the salmon migration that brings the orcas closer to the coast. If you're planning a trip specifically to see orcas, it's a good idea to check with local tour operators or conservation groups for the most up-to-date information on orca sightings and movements.\", additional_kwargs={}, response_metadata={'token_usage': {'completion_tokens': 365, 'prompt_tokens': 90, 'total_tokens': 455, 'completion_time': 1.825, 'prompt_time': 0.006914809, 'queue_time': 0.202993311, 'total_time': 1.8319148090000001}, 'model_name': 'qwen-2.5-32b', 'system_fingerprint': 'fp_35f92f8282', 'finish_reason': 'stop', 'logprobs': None}, id='run-f8ed5073-f95d-4253-a12e-19a231e013fc-0', usage_metadata={'input_tokens': 90, 'output_tokens': 365, 'total_tokens': 455})"
      ]
     },
     "execution_count": 47,
     "metadata": {},
     "output_type": "execute_result"
    }
   ],
   "source": [
    "from langchain_groq import ChatGroq\n",
    "llm = ChatGroq(model=\"qwen-2.5-32b\")\n",
    "result = llm.invoke(messages)\n",
    "result"
   ]
  },
  {
   "cell_type": "code",
   "execution_count": 79,
   "metadata": {},
   "outputs": [],
   "source": [
    "def add(a:int, b:int):\n",
    "    \"\"\"Add a and b.\n",
    "\n",
    "    Args:\n",
    "        a: first int\n",
    "        b: second int\n",
    "    \"\"\"\n",
    "    return a + b"
   ]
  },
  {
   "cell_type": "code",
   "execution_count": 49,
   "metadata": {},
   "outputs": [],
   "source": [
    "llm_with_tool = llm.bind_tools([add])"
   ]
  },
  {
   "cell_type": "code",
   "execution_count": 50,
   "metadata": {},
   "outputs": [
    {
     "data": {
      "text/plain": [
       "AIMessage(content='', additional_kwargs={'tool_calls': [{'id': 'call_0fjc', 'function': {'arguments': '{\"a\": 3, \"b\": 2}', 'name': 'add'}, 'type': 'function'}]}, response_metadata={'token_usage': {'completion_tokens': 25, 'prompt_tokens': 172, 'total_tokens': 197, 'completion_time': 0.125, 'prompt_time': 0.010397389, 'queue_time': 0.207904503, 'total_time': 0.135397389}, 'model_name': 'qwen-2.5-32b', 'system_fingerprint': 'fp_35f92f8282', 'finish_reason': 'tool_calls', 'logprobs': None}, id='run-5c570c8f-a7c2-4e50-9292-a04f8a020a7e-0', tool_calls=[{'name': 'add', 'args': {'a': 3, 'b': 2}, 'id': 'call_0fjc', 'type': 'tool_call'}], usage_metadata={'input_tokens': 172, 'output_tokens': 25, 'total_tokens': 197})"
      ]
     },
     "execution_count": 50,
     "metadata": {},
     "output_type": "execute_result"
    }
   ],
   "source": [
    "tool_call = llm_with_tool.invoke([HumanMessage(content=\"add 3 and 2\", name=\"d9\")])\n",
    "tool_call"
   ]
  },
  {
   "cell_type": "code",
   "execution_count": 51,
   "metadata": {},
   "outputs": [
    {
     "data": {
      "text/plain": [
       "[{'name': 'add',\n",
       "  'args': {'a': 3, 'b': 2},\n",
       "  'id': 'call_0fjc',\n",
       "  'type': 'tool_call'}]"
      ]
     },
     "execution_count": 51,
     "metadata": {},
     "output_type": "execute_result"
    }
   ],
   "source": [
    "tool_call.tool_calls"
   ]
  },
  {
   "cell_type": "code",
   "execution_count": 52,
   "metadata": {},
   "outputs": [],
   "source": [
    "from typing import TypedDict, Annotated\n",
    "from langchain_core.messages import AnyMessage\n",
    "from langgraph.graph.message import add_messages\n",
    "\n",
    "\n",
    "class MessageState(TypedDict):\n",
    "    messages: Annotated[list[AnyMessage], add_messages]"
   ]
  },
  {
   "cell_type": "markdown",
   "metadata": {},
   "source": [
    "function of add_messages"
   ]
  },
  {
   "cell_type": "code",
   "execution_count": 53,
   "metadata": {},
   "outputs": [
    {
     "data": {
      "text/plain": [
       "[AIMessage(content='Hello! How can I assist you?', additional_kwargs={}, response_metadata={}, name='Model', id='95616d31-c8fc-49b0-8bb2-76d70d3fd352'),\n",
       " HumanMessage(content=\"I'm looking for information on generative ai.\", additional_kwargs={}, response_metadata={}, name='D9', id='d936ee7d-0279-4c09-939b-0a9bf228fc0a'),\n",
       " AIMessage(content='Sure, I can help with that. What specifically are you interested in?', additional_kwargs={}, response_metadata={}, name='Model', id='6a5271f6-1a1d-47ce-a387-e43e1cb810da')]"
      ]
     },
     "execution_count": 53,
     "metadata": {},
     "output_type": "execute_result"
    }
   ],
   "source": [
    "initial_message=[AIMessage(content=\"Hello! How can I assist you?\", name=\"Model\"),\n",
    "                    HumanMessage(content=\"I'm looking for information on generative ai.\", name=\"D9\")\n",
    "                   ]\n",
    "# New message to add\n",
    "new_message = AIMessage(content=\"Sure, I can help with that. What specifically are you interested in?\", name=\"Model\")\n",
    "\n",
    "add_messages(initial_message,new_message)"
   ]
  },
  {
   "cell_type": "code",
   "execution_count": 100,
   "metadata": {},
   "outputs": [],
   "source": [
    "# Creating a node..\n",
    "def tool_call_llm(state:MessageState):\n",
    "    return {\"messages\": [llm_with_tool.invoke(state[\"messages\"])]}"
   ]
  },
  {
   "cell_type": "code",
   "execution_count": 60,
   "metadata": {},
   "outputs": [
    {
     "data": {
      "image/png": "[encoded data removed]",
      "text/plain": [
       "<langgraph.graph.state.CompiledStateGraph object at 0x000001DFCFA367B0>"
      ]
     },
     "execution_count": 60,
     "metadata": {},
     "output_type": "execute_result"
    }
   ],
   "source": [
    "from langgraph.graph import StateGraph, START, END\n",
    "builder = StateGraph(MessageState)\n",
    "\n",
    "# Adding a node..\n",
    "builder.add_node(\"tool_call_llm\", tool_call_llm)\n",
    "\n",
    "# create a graph..\n",
    "builder.add_edge(START, \"tool_call_llm\")\n",
    "builder.add_edge(\"tool_call_llm\", END)\n",
    "\n",
    "#compile the graph..\n",
    "graph = builder.compile()\n",
    "\n",
    "graph"
   ]
  },
  {
   "cell_type": "code",
   "execution_count": null,
   "metadata": {},
   "outputs": [
    {
     "data": {
      "text/plain": [
       "{'messages': [HumanMessage(content='Hi I am Darshan aN AI Engineer', additional_kwargs={}, response_metadata={}, id='7d9d4252-6965-4934-adf4-d0ac81aa8312'),\n",
       "  AIMessage(content=\"Hello Darshan! It's nice to meet you. As an AI Engineer, what projects are you currently working on, or do you have any questions about AI engineering that you'd like to discuss?\", additional_kwargs={}, response_metadata={'token_usage': {'completion_tokens': 41, 'prompt_tokens': 175, 'total_tokens': 216, 'completion_time': 0.205, 'prompt_time': 0.010437499, 'queue_time': 0.203250013, 'total_time': 0.215437499}, 'model_name': 'qwen-2.5-32b', 'system_fingerprint': 'fp_35f92f8282', 'finish_reason': 'stop', 'logprobs': None}, id='run-08e8662f-f48c-49a8-9099-aae65fd0b47b-0', usage_metadata={'input_tokens': 175, 'output_tokens': 41, 'total_tokens': 216})]}"
      ]
     },
     "execution_count": 61,
     "metadata": {},
     "output_type": "execute_result"
    }
   ],
   "source": [
    "messages = graph.invoke({\"messages\": HumanMessage(content=\"Hi I am Darshan an AI Engineer\")})\n",
    "messages"
   ]
  },
  {
   "cell_type": "code",
   "execution_count": null,
   "metadata": {},
   "outputs": [],
   "source": [
    "messages = graph.invoke({\"messages\": HumanMessage(content=\"add 1 and 2\")})"
   ]
  },
  {
   "cell_type": "code",
   "execution_count": 74,
   "metadata": {},
   "outputs": [
    {
     "name": "stdout",
     "output_type": "stream",
     "text": [
      "================================\u001b[1m Human Message \u001b[0m=================================\n",
      "\n",
      "add 1 and 2\n",
      "==================================\u001b[1m Ai Message \u001b[0m==================================\n",
      "Tool Calls:\n",
      "  add (call_kt2z)\n",
      " Call ID: call_kt2z\n",
      "  Args:\n",
      "    a: 1\n",
      "    b: 2\n"
     ]
    }
   ],
   "source": [
    "for msg in messages[\"messages\"]:\n",
    "    msg.pretty_print()"
   ]
  },
  {
   "cell_type": "markdown",
   "metadata": {},
   "source": [
    "Till now llm knows when and which tool to execute...Now we are going to make a tool to be a node. And then we will add condition so that llm can route to that tool and execute it. fot that wee need to use ToolNode and tools_condition from prebuilt in langgraph"
   ]
  },
  {
   "cell_type": "markdown",
   "metadata": {},
   "source": [
    "tools\n",
    "\n",
    "Note: Function must have a docstring if description not provided."
   ]
  },
  {
   "cell_type": "code",
   "execution_count": null,
   "metadata": {},
   "outputs": [],
   "source": [
    "# Note Function must have a docstring if description not provided.\n",
    "def add(a:int, b:int):\n",
    "    \"\"\"Add a and b.\n",
    "\n",
    "    Args:\n",
    "        a: first int\n",
    "        b: second int\n",
    "    \"\"\"\n",
    "    return a + b"
   ]
  },
  {
   "cell_type": "code",
   "execution_count": null,
   "metadata": {},
   "outputs": [],
   "source": [
    "llm_with_tool = llm.bind_tools([add])"
   ]
  },
  {
   "cell_type": "code",
   "execution_count": null,
   "metadata": {},
   "outputs": [
    {
     "data": {
      "image/png": "[encoded data removed]",
      "text/plain": [
       "<langgraph.graph.state.CompiledStateGraph object at 0x000001DFCDD2F230>"
      ]
     },
     "execution_count": 97,
     "metadata": {},
     "output_type": "execute_result"
    }
   ],
   "source": [
    "from langgraph.graph import StateGraph, START, END\n",
    "from langgraph.prebuilt import ToolNode, tools_condition\n",
    "\n",
    "\n",
    "builder = StateGraph(MessageState)\n",
    "\n",
    "# Adding a node..\n",
    "builder.add_node(\"tool_call_llm\", tool_call_llm)\n",
    "builder.add_node(\"tools\", ToolNode([add]))\n",
    "\n",
    "# create a graph..\n",
    "builder.add_edge(START, \"tool_call_llm\")\n",
    "builder.add_conditional_edges(\"tool_call_llm\", tools_condition)\n",
    "# If the latest message (result) from assistant is a tool call -> tools_condition routes to tools\n",
    "# If the latest message (result) from assistant is a not a tool call -> tools_condition routes to END\n",
    "builder.add_edge(\"tools\", END)\n",
    "\n",
    "#compile the graph..\n",
    "graph = builder.compile()\n",
    "\n",
    "graph"
   ]
  },
  {
   "cell_type": "code",
   "execution_count": null,
   "metadata": {},
   "outputs": [],
   "source": [
    "messages = graph.invoke({\"messages\": HumanMessage(content=\"add 1 and 2\")})"
   ]
  },
  {
   "cell_type": "code",
   "execution_count": 102,
   "metadata": {},
   "outputs": [
    {
     "name": "stdout",
     "output_type": "stream",
     "text": [
      "================================\u001b[1m Human Message \u001b[0m=================================\n",
      "\n",
      "add 1 and 2\n",
      "==================================\u001b[1m Ai Message \u001b[0m==================================\n",
      "Tool Calls:\n",
      "  add (call_pacv)\n",
      " Call ID: call_pacv\n",
      "  Args:\n",
      "    a: 1\n",
      "    b: 2\n",
      "=================================\u001b[1m Tool Message \u001b[0m=================================\n",
      "Name: add\n",
      "\n",
      "3\n"
     ]
    }
   ],
   "source": [
    "for msg in messages[\"messages\"]:\n",
    "    msg.pretty_print()"
   ]
  },
  {
   "cell_type": "markdown",
   "metadata": {},
   "source": [
    "# let's create the whole process with 2 tools\n",
    "add and multi"
   ]
  },
  {
   "cell_type": "markdown",
   "metadata": {},
   "source": [
    "llm"
   ]
  },
  {
   "cell_type": "code",
   "execution_count": 103,
   "metadata": {},
   "outputs": [],
   "source": [
    "from langchain_groq import ChatGroq\n",
    "llm = ChatGroq(model=\"qwen-2.5-32b\")"
   ]
  },
  {
   "cell_type": "markdown",
   "metadata": {},
   "source": [
    "tools"
   ]
  },
  {
   "cell_type": "code",
   "execution_count": 104,
   "metadata": {},
   "outputs": [],
   "source": [
    "# Note Function must have a docstring if description not provided.\n",
    "def add(a:int, b:int):\n",
    "    \"\"\"Add a and b.\n",
    "\n",
    "    Args:\n",
    "        a: first int\n",
    "        b: second int\n",
    "    \"\"\"\n",
    "    return a + b\n",
    "\n",
    "def multi(a:int, b:int):\n",
    "    \"\"\"multiply a and b.\n",
    "\n",
    "    Args:\n",
    "        a: first int\n",
    "        b: second int\n",
    "    \"\"\"\n",
    "    return a * b"
   ]
  },
  {
   "cell_type": "markdown",
   "metadata": {},
   "source": [
    "connect tools with llm"
   ]
  },
  {
   "cell_type": "code",
   "execution_count": 114,
   "metadata": {},
   "outputs": [],
   "source": [
    "llm_with_tool = llm.bind_tools([add, multi])"
   ]
  },
  {
   "cell_type": "markdown",
   "metadata": {},
   "source": [
    "create a class to build the structure for message and context awareness..."
   ]
  },
  {
   "cell_type": "code",
   "execution_count": 115,
   "metadata": {},
   "outputs": [],
   "source": [
    "from typing import TypedDict, Annotated\n",
    "from langchain_core.messages import AnyMessage\n",
    "from langgraph.graph.message import add_messages\n",
    "\n",
    "\n",
    "class MessageState(TypedDict):\n",
    "    messages: Annotated[list[AnyMessage], add_messages]"
   ]
  },
  {
   "cell_type": "markdown",
   "metadata": {},
   "source": [
    "create a node for llm which is taking message from dictionary and return a dictionary of messages for the history"
   ]
  },
  {
   "cell_type": "code",
   "execution_count": 116,
   "metadata": {},
   "outputs": [],
   "source": [
    "# Creating a node..\n",
    "def tool_call_llm(state:MessageState):\n",
    "    return {\"messages\": [llm_with_tool.invoke(state[\"messages\"])]}"
   ]
  },
  {
   "cell_type": "markdown",
   "metadata": {},
   "source": [
    "Build the graph.."
   ]
  },
  {
   "cell_type": "code",
   "execution_count": 117,
   "metadata": {},
   "outputs": [
    {
     "data": {
      "image/png": "[encoded data removed]",
      "text/plain": [
       "<langgraph.graph.state.CompiledStateGraph object at 0x000001DFCEE34860>"
      ]
     },
     "execution_count": 117,
     "metadata": {},
     "output_type": "execute_result"
    }
   ],
   "source": [
    "from langgraph.graph import StateGraph, START, END\n",
    "from langgraph.prebuilt import ToolNode, tools_condition\n",
    "\n",
    "\n",
    "builder = StateGraph(MessageState)\n",
    "\n",
    "# Adding a node..\n",
    "builder.add_node(\"tool_call_llm\", tool_call_llm)\n",
    "builder.add_node(\"tools\", ToolNode([add, multi]))\n",
    "\n",
    "# create a graph..\n",
    "builder.add_edge(START, \"tool_call_llm\")\n",
    "builder.add_conditional_edges(\"tool_call_llm\", tools_condition)\n",
    "# If the latest message (result) from assistant is a tool call -> tools_condition routes to tools\n",
    "# If the latest message (result) from assistant is a not a tool call -> tools_condition routes to END\n",
    "builder.add_edge(\"tools\", END)\n",
    "\n",
    "#compile the graph..\n",
    "graph = builder.compile()\n",
    "\n",
    "graph"
   ]
  },
  {
   "cell_type": "code",
   "execution_count": 128,
   "metadata": {},
   "outputs": [
    {
     "name": "stdout",
     "output_type": "stream",
     "text": [
      "================================\u001b[1m Human Message \u001b[0m=================================\n",
      "\n",
      "add 3 and 4 then multiply by 2 and then muliply by 5\n",
      "==================================\u001b[1m Ai Message \u001b[0m==================================\n",
      "Tool Calls:\n",
      "  add (call_jqkn)\n",
      " Call ID: call_jqkn\n",
      "  Args:\n",
      "    a: 3\n",
      "    b: 4\n",
      "  multi (call_bjk9)\n",
      " Call ID: call_bjk9\n",
      "  Args:\n",
      "    a: 7\n",
      "    b: 2\n",
      "  multi (call_r3dj)\n",
      " Call ID: call_r3dj\n",
      "  Args:\n",
      "    a: 14\n",
      "    b: 5\n",
      "=================================\u001b[1m Tool Message \u001b[0m=================================\n",
      "Name: add\n",
      "\n",
      "7\n",
      "=================================\u001b[1m Tool Message \u001b[0m=================================\n",
      "Name: multi\n",
      "\n",
      "14\n",
      "=================================\u001b[1m Tool Message \u001b[0m=================================\n",
      "Name: multi\n",
      "\n",
      "70\n"
     ]
    }
   ],
   "source": [
    "messages = graph.invoke({\"messages\": HumanMessage(content=\"add 3 and 4 then multiply by 2 and then muliply by 5\")})\n",
    "for msg in messages[\"messages\"]:\n",
    "    msg.pretty_print()"
   ]
  },
  {
   "cell_type": "code",
   "execution_count": null,
   "metadata": {},
   "outputs": [],
   "source": []
  }
 ],
 "metadata": {
  "kernelspec": {
   "display_name": ".venv",
   "language": "python",
   "name": "python3"
  },
  "language_info": {
   "codemirror_mode": {
    "name": "ipython",
    "version": 3
   },
   "file_extension": ".py",
   "mimetype": "text/x-python",
   "name": "python",
   "nbconvert_exporter": "python",
   "pygments_lexer": "ipython3",
   "version": "3.12.0"
  }
 },
 "nbformat": 4,
 "nbformat_minor": 2
}
